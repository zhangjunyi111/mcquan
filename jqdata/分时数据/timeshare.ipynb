{
 "cells": [
  {
   "cell_type": "code",
   "execution_count": 25,
   "id": "initial_id",
   "metadata": {
    "collapsed": true,
    "ExecuteTime": {
     "end_time": "2023-10-22T12:59:07.060738500Z",
     "start_time": "2023-10-22T12:59:06.888891700Z"
    }
   },
   "outputs": [],
   "source": [
    "import pandas as pd\n",
    "df = pd.read_excel('mccode.xlsx')"
   ]
  },
  {
   "cell_type": "code",
   "execution_count": 3,
   "outputs": [],
   "source": [
    "import datetime\n",
    "# 格式化当前日期\n",
    "date = datetime.datetime.now().strftime('%Y-%m-%d')\n"
   ],
   "metadata": {
    "collapsed": false
   },
   "id": "5250d95f5d3ac94c"
  },
  {
   "cell_type": "code",
   "execution_count": 3,
   "outputs": [],
   "source": [],
   "metadata": {
    "collapsed": false
   },
   "id": "362b21fffb901ac8"
  },
  {
   "cell_type": "code",
   "execution_count": 4,
   "outputs": [],
   "source": [
    "pwd"
   ],
   "metadata": {
    "collapsed": false
   },
   "id": "acc2bad1d23b5bbf"
  },
  {
   "cell_type": "code",
   "execution_count": 5,
   "outputs": [],
   "source": [
    "df"
   ],
   "metadata": {
    "collapsed": false
   },
   "id": "7ccdcf0e3f330141"
  },
  {
   "cell_type": "code",
   "execution_count": 6,
   "outputs": [],
   "source": [
    "type(df)\n",
    "result = df[\"mccode\"].to_list()"
   ],
   "metadata": {
    "collapsed": false
   },
   "id": "8c1b8de8e876aeb2"
  },
  {
   "cell_type": "code",
   "execution_count": 7,
   "outputs": [],
   "source": [
    "convert_result =[]\n",
    "for x in result:\n",
    "    if x.endswith('.XSHE'):\n",
    "        print(x.replace('.XSHE','.sz'))\n",
    "        convert_result.append(x.replace('.XSHE','.sz'))\n",
    "    elif x.endswith('.XSHG'):\n",
    "        print(x.replace('.XSHG','.sh'))\n",
    "        convert_result.append(x.replace('.XSHG','.sh'))"
   ],
   "metadata": {
    "collapsed": false
   },
   "id": "3a31724cdc9a7576"
  },
  {
   "cell_type": "code",
   "execution_count": 8,
   "outputs": [],
   "source": [
    "convert_result_dict ={'mccode':convert_result}"
   ],
   "metadata": {
    "collapsed": false
   },
   "id": "81a8032727702dfd"
  },
  {
   "cell_type": "code",
   "execution_count": 9,
   "outputs": [],
   "source": [
    "pd.DataFrame(convert_result_dict)"
   ],
   "metadata": {
    "collapsed": false
   },
   "id": "8ef15d0ab23f4f6"
  },
  {
   "cell_type": "code",
   "execution_count": 12,
   "outputs": [],
   "source": [
    "import pymysql\n",
    "db_conn = pymysql.connect(\n",
    "host='123.56.254.64',\n",
    "port=3306,\n",
    "user='root',\n",
    "password='HONGhong1225',\n",
    "database='mcquant',\n",
    "charset='utf8')\n"
   ],
   "metadata": {
    "collapsed": false
   },
   "id": "93a2bf93433d1b1"
  },
  {
   "cell_type": "code",
   "execution_count": 13,
   "outputs": [],
   "source": [
    "dict_table = pd.read_sql('select * from dict_table',db_conn)"
   ],
   "metadata": {
    "collapsed": false
   },
   "id": "723902fb8228fd4b"
  },
  {
   "cell_type": "code",
   "execution_count": null,
   "outputs": [],
   "source": [
    "dict_table"
   ],
   "metadata": {
    "collapsed": false
   },
   "id": "fadd5c2225567526"
  },
  {
   "cell_type": "code",
   "execution_count": 14,
   "outputs": [],
   "source": [
    "len(dict_table['ts_code'])\n",
    "codes = dict_table[\n",
    "    'ts_code'\n",
    "]"
   ],
   "metadata": {
    "collapsed": false
   },
   "id": "2d767e20ed9872af"
  },
  {
   "cell_type": "code",
   "execution_count": 15,
   "outputs": [],
   "source": [
    "type(codes[0])\n",
    "codes"
   ],
   "metadata": {
    "collapsed": false
   },
   "id": "4c4513388e581cfd"
  },
  {
   "cell_type": "code",
   "execution_count": 16,
   "outputs": [],
   "source": [
    "new_codes = []\n",
    "for code in codes:\n",
    "    if code.startswith('0'):\n",
    "        code=code.replace('0','sz0',1)\n",
    "        new_codes.append(code)\n",
    "    elif code.startswith('3'):\n",
    "        code=code.replace('3',\n",
    "                          'sz3',1)\n",
    "        new_codes.append(code)\n",
    "    elif code.startswith('6'):\n",
    "        code=code.replace('6','sh6',1)\n",
    "        new_codes.append(code)"
   ],
   "metadata": {
    "collapsed": false
   },
   "id": "9439fb8fad382823"
  },
  {
   "cell_type": "code",
   "execution_count": 17,
   "outputs": [],
   "source": [
    "new_codes"
   ],
   "metadata": {
    "collapsed": false
   },
   "id": "cf03a8e20819e6ab"
  },
  {
   "cell_type": "code",
   "execution_count": 18,
   "outputs": [],
   "source": [
    "import requests"
   ],
   "metadata": {
    "collapsed": false
   },
   "id": "e7c028a920098a6f"
  },
  {
   "cell_type": "code",
   "execution_count": null,
   "outputs": [],
   "source": [
    "import json"
   ],
   "metadata": {
    "collapsed": false
   },
   "id": "bce48d1905197357"
  },
  {
   "cell_type": "code",
   "execution_count": 24,
   "outputs": [],
   "source": [
    "# data_json= [ {\"key1\": \"value1\"},{\"key2\": \"value2\"}]\n",
    "results = []\n",
    "# proxy = '45.9.8.34'\n",
    "headers = {'content-type': 'application/json'}\n",
    "myresult = pd.DataFrame()\n",
    "for code in new_codes:\n",
    "    datas = []\n",
    "    url = f'https://web.ifzq.gtimg.cn/appstock/app/minute/query?code={code}'\n",
    "    res =  requests.post(url=url, headers = headers, )\n",
    "    simWords = res.json()\n",
    "    # print(simWords['data'][code]['data']['data'])\n",
    "    simWords = simWords['data'][code]['data']['data']\n",
    "    for data in simWords:\n",
    "        data = data.split(' ')\n",
    "        data.append(code)\n",
    "        data.append(date)\n",
    "        datas.append(data)\n",
    "    df = pd.DataFrame(datas,columns=['time','price','amount','vol','mccode',\n",
    "                                     'date'])\n",
    "    myresult = pd.concat([myresult,df])\n",
    "myresult"
   ],
   "metadata": {
    "collapsed": false
   },
   "id": "80381a83537691a1"
  },
  {
   "cell_type": "code",
   "execution_count": null,
   "outputs": [],
   "source": [
    "# with open('result.json','w') as f:\n",
    "#     json.dump(results, f,ensure_ascii=False, indent=4)"
   ],
   "metadata": {
    "collapsed": false
   },
   "id": "e1526eb00e325885"
  },
  {
   "cell_type": "code",
   "execution_count": null,
   "outputs": [],
   "source": [
    "for result in results:\n",
    "    print(type(result['data']))"
   ],
   "metadata": {
    "collapsed": false
   },
   "id": "306df7f82b3c9c1b"
  },
  {
   "cell_type": "code",
   "execution_count": 23,
   "outputs": [],
   "source": [
    "myresult.to_excel('myresultater251.xlsx',sheet_name='myresult')"
   ],
   "metadata": {
    "collapsed": false
   },
   "id": "8ea8c7a7bb6fbbdd"
  },
  {
   "cell_type": "code",
   "execution_count": null,
   "outputs": [],
   "source": [],
   "metadata": {
    "collapsed": false
   },
   "id": "ae9c7f1ad64e5573"
  }
 ],
 "metadata": {
  "kernelspec": {
   "display_name": "Python 3",
   "language": "python",
   "name": "python3"
  },
  "language_info": {
   "codemirror_mode": {
    "name": "ipython",
    "version": 2
   },
   "file_extension": ".py",
   "mimetype": "text/x-python",
   "name": "python",
   "nbconvert_exporter": "python",
   "pygments_lexer": "ipython2",
   "version": "2.7.6"
  }
 },
 "nbformat": 4,
 "nbformat_minor": 5
}
